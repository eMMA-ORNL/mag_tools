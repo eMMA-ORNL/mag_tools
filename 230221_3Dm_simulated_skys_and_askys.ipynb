{
 "cells": [
  {
   "cell_type": "code",
   "execution_count": 1,
   "metadata": {},
   "outputs": [
    {
     "name": "stdout",
     "output_type": "stream",
     "text": [
      "Notebook initialized with ipy backend.\n"
     ]
    }
   ],
   "source": [
    "from mayavi import mlab\n",
    "mlab.init_notebook()\n",
    "mlab.options.offscreen = True"
   ]
  },
  {
   "cell_type": "code",
   "execution_count": 2,
   "metadata": {},
   "outputs": [],
   "source": [
    "%load_ext autoreload\n",
    "%autoreload 2\n",
    "%matplotlib inline\n",
    "import numpy as np\n",
    "import matplotlib as mpl\n",
    "import matplotlib.pyplot as plt\n",
    "\n",
    "import plot_tools as pt\n",
    "import sim_tools as st\n",
    "import vector_tools as vt\n",
    "import pandas as pd\n",
    "import hyperspy.api as hs\n",
    "import mag_sim_tools as mst\n",
    "import mag_plot_tools as mpt\n",
    "\n",
    "import scipy as sp\n",
    "# from skimage.restoration import unwrap_phase\n",
    "from smooth_hsv_trh import smooth_hsv as hsv\n",
    "import smooth_hsv_jjc as smooth_hsv\n",
    "# from matplotlib_scalebar.scalebar import ScaleBar\n",
    "from matplotlib.colors import Normalize\n",
    "import os\n",
    "\n",
    "from mpl_toolkits.mplot3d import axes3d\n",
    "from scipy import ndimage\n",
    "from scipy import signal\n",
    "import imageio\n",
    "from matplotlib.colors import colorConverter\n",
    "\n",
    "import colorsys\n",
    "import math"
   ]
  },
  {
   "cell_type": "code",
   "execution_count": 3,
   "metadata": {},
   "outputs": [],
   "source": [
    "def bin_ndarray(ndarray, new_shape, operation='sum'):\n",
    "    \"\"\"\n",
    "    Bins an ndarray in all axes based on the target shape, by summing or\n",
    "        averaging.\n",
    "\n",
    "    Number of output dimensions must match number of input dimensions and \n",
    "        new axes must divide old ones.\n",
    "\n",
    "    Example\n",
    "    -------\n",
    "    >>> m = np.arange(0,100,1).reshape((10,10))\n",
    "    >>> n = bin_ndarray(m, new_shape=(5,5), operation='sum')\n",
    "    >>> print(n)\n",
    "\n",
    "    [[ 22  30  38  46  54]\n",
    "     [102 110 118 126 134]\n",
    "     [182 190 198 206 214]\n",
    "     [262 270 278 286 294]\n",
    "     [342 350 358 366 374]]\n",
    "\n",
    "    \"\"\"\n",
    "    operation = operation.lower()\n",
    "    if not operation in ['sum', 'mean']:\n",
    "        raise ValueError(\"Operation not supported.\")\n",
    "    if ndarray.ndim != len(new_shape):\n",
    "        raise ValueError(\"Shape mismatch: {} -> {}\".format(ndarray.shape,\n",
    "                                                           new_shape))\n",
    "    compression_pairs = [(d, c//d) for d,c in zip(new_shape,\n",
    "                                                  ndarray.shape)]\n",
    "    flattened = [l for p in compression_pairs for l in p]\n",
    "    ndarray = ndarray.reshape(flattened)\n",
    "    for i in range(len(new_shape)):\n",
    "        op = getattr(ndarray, operation)\n",
    "        ndarray = op(-1*(i+1))\n",
    "    return ndarray"
   ]
  },
  {
   "cell_type": "code",
   "execution_count": 32,
   "metadata": {},
   "outputs": [
    {
     "name": "stdout",
     "output_type": "stream",
     "text": [
      "FOV is 480 nm. Thickness is 480 nm.\n"
     ]
    }
   ],
   "source": [
    "# create skyrmion using mag_sim_tools\n",
    "######################################\n",
    "### USER INPUT\n",
    "\n",
    "BASE = str(\"/Users/fehmiyasin/RIKEN/Research/Illustrations/spin_textures/\")\n",
    "\n",
    "PIX_LEN = 8                                         # nm/PIX (pixel length)\n",
    "PIX_T = 8                                           # nm/PIX (pixel length)\n",
    "\n",
    "\n",
    "T_PIX = 60                            #pix (number of pixels in z (thickness))\n",
    "N_PIX = 60                          #pix (number of pixels along x and y lengths)\n",
    "\n",
    "M = np.zeros((3,T_PIX,N_PIX,N_PIX),dtype=np.float64)\n",
    "\n",
    "FOV_L = PIX_LEN*N_PIX #nm\n",
    "THICKNESS = T_PIX*PIX_T\n",
    "print('FOV is ' + str(FOV_L) + ' nm.' + ' Thickness is ' + str(THICKNESS) + ' nm.')\n",
    "RAD = 100\n",
    "\n",
    "CENTERS = [[0,0]]\n",
    "######################################\n",
    "#Bloch Type:\n",
    "M[0],M[1],M[2] = mst.skyrmion(m=-1, gamma=3*np.pi/2, r=RAD,\n",
    "                              width=2., centers=CENTERS,\n",
    "                              pxsize=PIX_LEN, Npixels=N_PIX)"
   ]
  },
  {
   "cell_type": "code",
   "execution_count": 47,
   "metadata": {},
   "outputs": [
    {
     "name": "stdout",
     "output_type": "stream",
     "text": [
      "3.141592653589793\n"
     ]
    }
   ],
   "source": [
    "print(np.pi)"
   ]
  },
  {
   "cell_type": "code",
   "execution_count": 62,
   "metadata": {},
   "outputs": [],
   "source": [
    "M2 = np.zeros((3,T_PIX,128,128),dtype=np.float64)\n",
    "N_HELICES = 10\n",
    "ANGLE = np.linspace(0,N_HELICES * 2 * np.pi,128)\n",
    "X,Y = np.meshgrid(ANGLE, ANGLE)\n",
    "for z,_ in enumerate(M2[0]):\n",
    "#     print(z)\n",
    "    M2[1,z] = np.cos(X)\n",
    "    M2[2,z] = np.sin(X)\n",
    "M2[:,:,40:80,20:60] = np.copy(M[:,:,10:50,10:50])"
   ]
  },
  {
   "cell_type": "code",
   "execution_count": 63,
   "metadata": {},
   "outputs": [
    {
     "data": {
      "image/png": "[encoded data removed]",
      "text/plain": [
       "<Figure size 360x288 with 2 Axes>"
      ]
     },
     "metadata": {
      "needs_background": "light"
     },
     "output_type": "display_data"
    },
    {
     "data": {
      "image/png": "[encoded data removed]",
      "text/plain": [
       "<Figure size 360x288 with 2 Axes>"
      ]
     },
     "metadata": {
      "needs_background": "light"
     },
     "output_type": "display_data"
    },
    {
     "data": {
      "image/png": "[encoded data removed]",
      "text/plain": [
       "<Figure size 360x360 with 1 Axes>"
      ]
     },
     "metadata": {
      "needs_background": "light"
     },
     "output_type": "display_data"
    },
    {
     "data": {
      "image/png": "[encoded data removed]",
      "text/plain": [
       "<Figure size 360x360 with 1 Axes>"
      ]
     },
     "metadata": {
      "needs_background": "light"
     },
     "output_type": "display_data"
    }
   ],
   "source": [
    "pt.plot_2D(X, colorbar=True)\n",
    "pt.plot_2D(Y, colorbar=True)\n",
    "pt.plot_2D(M2[1,0])\n",
    "pt.plot_2D(M2[2,0])"
   ]
  },
  {
   "cell_type": "code",
   "execution_count": 33,
   "metadata": {},
   "outputs": [
    {
     "data": {
      "image/png": "[encoded data removed]",
      "text/plain": [
       "<Figure size 360x360 with 1 Axes>"
      ]
     },
     "metadata": {
      "needs_background": "light"
     },
     "output_type": "display_data"
    },
    {
     "data": {
      "image/png": "[encoded data removed]",
      "text/plain": [
       "<Figure size 360x360 with 1 Axes>"
      ]
     },
     "metadata": {
      "needs_background": "light"
     },
     "output_type": "display_data"
    },
    {
     "data": {
      "image/png": "[encoded data removed]",
      "text/plain": [
       "<Figure size 360x360 with 1 Axes>"
      ]
     },
     "metadata": {
      "needs_background": "light"
     },
     "output_type": "display_data"
    }
   ],
   "source": [
    "for _,mag in enumerate(M):\n",
    "    pt.plot_2D(mag[0], vmin=-1, vmax=+1)"
   ]
  },
  {
   "cell_type": "code",
   "execution_count": 34,
   "metadata": {},
   "outputs": [
    {
     "name": "stdout",
     "output_type": "stream",
     "text": [
      "[-0.99860367 -0.99860367 -0.99176007 ...  0.99860367  0.99947444\n",
      "  1.        ]\n"
     ]
    },
    {
     "data": {
      "image/png": "[encoded data removed]",
      "text/plain": [
       "<Figure size 432x288 with 1 Axes>"
      ]
     },
     "metadata": {
      "needs_background": "light"
     },
     "output_type": "display_data"
    }
   ],
   "source": [
    "print(np.unique(M))\n",
    "BINS = np.linspace(np.min(M), np.max(M), 100)\n",
    "\n",
    "plt.hist(M.flatten(), bins=BINS) \n",
    "plt.title(\"histogram\") \n",
    "plt.show()"
   ]
  },
  {
   "cell_type": "code",
   "execution_count": 35,
   "metadata": {},
   "outputs": [
    {
     "name": "stderr",
     "output_type": "stream",
     "text": [
      "\r",
      "0it [00:00, ?it/s]"
     ]
    },
    {
     "name": "stdout",
     "output_type": "stream",
     "text": [
      "0 (0, 0, 0)\n",
      "0 0\n",
      "1 0\n",
      "2 0\n",
      "ANGLE= (0, 0, 0)\n"
     ]
    },
    {
     "name": "stderr",
     "output_type": "stream",
     "text": [
      "1it [00:00,  2.87it/s]"
     ]
    },
    {
     "name": "stdout",
     "output_type": "stream",
     "text": [
      "(3, 60, 60, 60)\n",
      "[-0.99860367 -0.99860367 -0.99860367 ...  1.          1.\n",
      "  1.        ] 0\n",
      "[-0.99860367 -0.99860367 -0.99860367 ...  1.          1.\n",
      "  1.        ] 1\n",
      "np.shape(TEMP)= (3, 60, 60, 60)\n",
      "MIDY, MIDX, LENY, LENX 30 30 60 60\n"
     ]
    },
    {
     "name": "stderr",
     "output_type": "stream",
     "text": [
      "\n"
     ]
    }
   ],
   "source": [
    "M_ROTF_TEMP = mst.rotate_3d_vec2(mag=M,angx=[0],angy=[0],angz=[0],#-40],\n",
    "                                 pix=PIX_LEN,PAD=True,TEST=True)"
   ]
  },
  {
   "cell_type": "code",
   "execution_count": 36,
   "metadata": {},
   "outputs": [
    {
     "data": {
      "image/png": "[encoded data removed]",
      "text/plain": [
       "<Figure size 360x288 with 2 Axes>"
      ]
     },
     "metadata": {
      "needs_background": "light"
     },
     "output_type": "display_data"
    },
    {
     "data": {
      "image/png": "[encoded data removed]",
      "text/plain": [
       "<Figure size 360x288 with 2 Axes>"
      ]
     },
     "metadata": {
      "needs_background": "light"
     },
     "output_type": "display_data"
    },
    {
     "data": {
      "image/png": "[encoded data removed]",
      "text/plain": [
       "<Figure size 360x288 with 2 Axes>"
      ]
     },
     "metadata": {
      "needs_background": "light"
     },
     "output_type": "display_data"
    }
   ],
   "source": [
    "# Rotate the array without rotating the vectors in order to keep the colormap the same\n",
    "# during 3D vector plotting bottom-right to top-left slice: angle=-63, +65\n",
    "M_ROTF = np.copy(M_ROTF_TEMP[0])\n",
    "for i,im in enumerate(M_ROTF):\n",
    "    M_ROTF[i] = np.copy(im)\n",
    "    pt.plot_2D(np.mean(im,axis=0),#[25:105,30:95],\n",
    "               vmin=np.min(im)/5, vmax = np.max(im)/5,\n",
    "               colorbar=True, origin='lower')"
   ]
  },
  {
   "cell_type": "code",
   "execution_count": 37,
   "metadata": {},
   "outputs": [],
   "source": [
    "MX = np.array(np.copy(M_ROTF[0]),dtype=np.float32)\n",
    "MY = np.array(np.copy(M_ROTF[1]),dtype=np.float32)\n",
    "MZ = np.array(np.copy(M_ROTF[2]),dtype=np.float32)"
   ]
  },
  {
   "cell_type": "code",
   "execution_count": 38,
   "metadata": {},
   "outputs": [
    {
     "data": {
      "image/png": "[encoded data removed]",
      "text/plain": [
       "<Figure size 720x720 with 1 Axes>"
      ]
     },
     "metadata": {
      "needs_background": "light"
     },
     "output_type": "display_data"
    },
    {
     "data": {
      "image/png": "[encoded data removed]",
      "text/plain": [
       "<Figure size 720x720 with 1 Axes>"
      ]
     },
     "metadata": {
      "needs_background": "light"
     },
     "output_type": "display_data"
    },
    {
     "data": {
      "image/png": "[encoded data removed]",
      "text/plain": [
       "<Figure size 720x720 with 1 Axes>"
      ]
     },
     "metadata": {
      "needs_background": "light"
     },
     "output_type": "display_data"
    }
   ],
   "source": [
    "MX_NORM=np.array(np.copy(MX)/np.max(np.abs(M_ROTF)),\n",
    "                 dtype=np.float32)\n",
    "MY_NORM=np.array(np.copy(MY)/np.max(np.abs(M_ROTF)),\n",
    "                 dtype=np.float32)\n",
    "MZ_NORM=-np.array(np.copy(MZ)/np.max(np.abs(M_ROTF)),\n",
    "                 dtype=np.float32)\n",
    "BIN = 2\n",
    "\n",
    "MX_NORM = bin_ndarray(np.copy(MX_NORM),\n",
    "                      (MX_NORM.shape[0] // BIN * 1,\n",
    "                       MX_NORM.shape[1] // BIN,\n",
    "                       MX_NORM.shape[2] // BIN), operation='mean')\n",
    "MY_NORM = bin_ndarray(np.copy(MY_NORM),\n",
    "                      (MY_NORM.shape[0] // BIN * 1,\n",
    "                       MY_NORM.shape[1] // BIN,\n",
    "                       MY_NORM.shape[2] // BIN), operation='mean')\n",
    "MZ_NORM = bin_ndarray(np.copy(MZ_NORM),\n",
    "                      (MZ_NORM.shape[0] // BIN * 1,\n",
    "                       MZ_NORM.shape[1] // BIN,\n",
    "                       MZ_NORM.shape[2] // BIN), operation='mean')\n",
    "\n",
    "THICKNESS = 256 #nm\n",
    "PIX = PIX_LEN * BIN\n",
    "PIX_LEN_T = THICKNESS / T_PIX * BIN//1\n",
    "\n",
    "M_NORM = np.array([MX_NORM,MY_NORM,MZ_NORM])\n",
    "for i,im in enumerate([MX_NORM,MY_NORM,MZ_NORM]):\n",
    "    plt.figure(figsize=(10,10))\n",
    "    plt.imshow(np.mean(im,axis=0), vmin = np.min(np.mean(im,axis=0)))\n",
    "    plt.axhline(im.shape[1] // 2, c='r')\n",
    "    plt.show()\n",
    "    \n",
    "    \n",
    "# MX_NORM=np.array(np.copy(MX)/np.max(np.abs(M_ROTF)),\n",
    "#                  dtype=np.float32)\n",
    "# MY_NORM=np.array(np.copy(MY)/np.max(np.abs(M_ROTF)),\n",
    "#                  dtype=np.float32)\n",
    "# MZ_NORM=-np.array(np.copy(MZ)/np.max(np.abs(M_ROTF)),\n",
    "#                  dtype=np.float32)\n",
    "# M_NORM = np.array([MX_NORM,MY_NORM,MZ_NORM])\n",
    "# for i,im in enumerate([MX_NORM,MY_NORM,MZ_NORM]):\n",
    "#     plt.figure(figsize=(10,10))\n",
    "#     plt.imshow(np.mean(im,axis=0), vmin = np.min(np.mean(im,axis=0)))\n",
    "#     plt.show()"
   ]
  },
  {
   "cell_type": "code",
   "execution_count": 39,
   "metadata": {},
   "outputs": [
    {
     "name": "stdout",
     "output_type": "stream",
     "text": [
      "(3, 30, 30, 30) /Users/fehmiyasin/RIKEN/Research/Illustrations/spin_textures/\n"
     ]
    }
   ],
   "source": [
    "print(np.shape(M_NORM), BASE)"
   ]
  },
  {
   "cell_type": "code",
   "execution_count": 40,
   "metadata": {},
   "outputs": [],
   "source": [
    "FN = BASE+'230322_M_3D_30'\n",
    "# mst.npy_to_ovf(m_array=np.array([MX_NORM,MY_NORM,MZ_NORM]),\n",
    "#                file_name=str(FN),\n",
    "#                xpix_len=PIX,\n",
    "#                ypix_len=PIX,\n",
    "#                zpix_len=PIX_LEN_T)"
   ]
  },
  {
   "cell_type": "code",
   "execution_count": 41,
   "metadata": {},
   "outputs": [
    {
     "name": "stdout",
     "output_type": "stream",
     "text": [
      "(30, 30, 30)\n"
     ]
    }
   ],
   "source": [
    "#### For plotting xz slices.\n",
    "# MX_NORM_PLOT = np.rollaxis(np.copy(MX_NORM)[30:94,:-1,:-1], 1)#[10:114,10:114,10:114]#[30:94,:-1,:-1]\n",
    "# MY_NORM_PLOT = np.rollaxis(np.copy(MZ_NORM)[30:94,:-1,:-1], 1)#[10:114,10:114,10:114]#[30:94,:-1,:-1]\n",
    "# MZ_NORM_PLOT = -np.rollaxis(np.copy(MY_NORM)[30:94,:-1,:-1], 1)\n",
    "\n",
    "MX_NORM_PLOT = np.copy(MX_NORM)[:,:,:]#[10:114,10:114,10:114]#[30:94,:-1,:-1]\n",
    "MY_NORM_PLOT = np.copy(MY_NORM)[:,:,:]#[10:114,10:114,10:114]#[30:94,:-1,:-1]\n",
    "MZ_NORM_PLOT = np.copy(MZ_NORM)[:,:,:]#[10:114,10:114,10:114]#[30:94,:-1,:-1]\n",
    "MX_NORM_PLOT = np.copy(MX_NORM_PLOT)/np.max(np.abs([MX_NORM_PLOT,MY_NORM_PLOT,MZ_NORM_PLOT]))\n",
    "MY_NORM_PLOT = np.copy(MY_NORM_PLOT)/np.max(np.abs([MX_NORM_PLOT,MY_NORM_PLOT,MZ_NORM_PLOT]))\n",
    "MZ_NORM_PLOT = np.copy(MZ_NORM_PLOT)/np.max(np.abs([MX_NORM_PLOT,MY_NORM_PLOT,MZ_NORM_PLOT]))\n",
    "\n",
    "print(np.shape(MX_NORM_PLOT))"
   ]
  },
  {
   "cell_type": "code",
   "execution_count": 42,
   "metadata": {},
   "outputs": [],
   "source": [
    "## Mayavi glyph plots 1/3\n",
    "SV_DIR = str(BASE)#+'230221_Neel_SKY_ROT/'\n",
    "if not os.path.exists(str(SV_DIR)):\n",
    "    os.makedirs(str(SV_DIR))\n",
    "SAVE_FN = str(SV_DIR)+\"Sky3_glyphs_15\"\n",
    "\n",
    "mlab.close('all')\n",
    "mlab.clf()\n",
    "# for t_slice in np.arange(np.shape(MX_NORM_PLOT)[0]-45):\n",
    "    \n",
    "X_SLICE = [0,MX_NORM_PLOT.shape[2]]\n",
    "Y_SLICE = [0,MX_NORM_PLOT.shape[1]]\n",
    "Z_SLICE = [0,MX_NORM_PLOT.shape[0]]\n",
    "X_LEN = X_SLICE[1]-X_SLICE[0]\n",
    "Y_LEN = Y_SLICE[1]-Y_SLICE[0]\n",
    "Z_LEN = Z_SLICE[1]-Z_SLICE[0]\n",
    "\n",
    "BOX_BP1 = slice(Y_SLICE[0],Y_SLICE[1]),slice(X_SLICE[0],X_SLICE[1])\n",
    "MX_NORM_PLOT2 = np.zeros((Z_LEN,Y_LEN,X_LEN))\n",
    "MY_NORM_PLOT2 = np.zeros_like(MX_NORM_PLOT2)\n",
    "MZ_NORM_PLOT2 = np.zeros_like(MX_NORM_PLOT2)\n",
    "for i,_ in enumerate(MX_NORM_PLOT2):\n",
    "    MX_NORM_PLOT2[i] = np.copy(MX_NORM_PLOT[Z_SLICE[0]+i])[BOX_BP1]\n",
    "    MY_NORM_PLOT2[i] = np.copy(MY_NORM_PLOT[Z_SLICE[0]+i])[BOX_BP1]\n",
    "    MZ_NORM_PLOT2[i] = np.copy(MZ_NORM_PLOT[Z_SLICE[0]+i])[BOX_BP1]\n",
    "\n",
    "###### The following transpose is necessary for Mayavi plotting, and switches the array\n",
    "###### indexing from '[z, y, x]'' to '[x, y, z]'\n",
    "MX_NORM_PLOT3 = np.transpose(np.copy(MX_NORM_PLOT2))\n",
    "MY_NORM_PLOT3 = np.transpose(np.copy(MY_NORM_PLOT2))\n",
    "MZ_NORM_PLOT3 = np.transpose(np.copy(MZ_NORM_PLOT2))\n",
    "####The following code normalizes each vector in the magnetic field\n",
    "NORM_VAL = np.sqrt(MX_NORM_PLOT3 ** 2 + MY_NORM_PLOT3 ** 2 + MZ_NORM_PLOT3 ** 2)\n",
    "MX_NORM_PLOT3 = np.copy(MX_NORM_PLOT3) / NORM_VAL\n",
    "MY_NORM_PLOT3 = np.copy(MY_NORM_PLOT3) / NORM_VAL\n",
    "MZ_NORM_PLOT3 = np.copy(MZ_NORM_PLOT3) / NORM_VAL\n",
    "MX_NORM_PLOT2 = np.transpose(np.copy(MX_NORM_PLOT2))\n",
    "MY_NORM_PLOT2 = np.transpose(np.copy(MY_NORM_PLOT2))\n",
    "MZ_NORM_PLOT2 = np.transpose(np.copy(MZ_NORM_PLOT2))"
   ]
  },
  {
   "cell_type": "code",
   "execution_count": 43,
   "metadata": {},
   "outputs": [],
   "source": [
    "## Mayavi plots part 2/3\n",
    "COLORS = (np.random.random((np.size(MX_NORM_PLOT2), 4))*255).astype(np.uint8)\n",
    "COLORS[:,-1] = 255 # No transparency\n",
    "\n",
    "PHI = np.angle((MY_NORM_PLOT2)+1.j*(MX_NORM_PLOT2))\n",
    "A = np.abs((MY_NORM_PLOT2)+1.j*(MX_NORM_PLOT2))\n",
    "B_C=A*np.exp(1.0j*PHI)\n",
    "COL_IN_PLANE = []\n",
    "\n",
    "for i,_ in enumerate(B_C):\n",
    "    COL_IN_PLANE.append(smooth_hsv.smooth_hsv(B_C[i],norm=1.,intensity_scale=1.))\n",
    "COL_IN_PLANE = np.array(COL_IN_PLANE)\n",
    "\n",
    "for i,_ in enumerate(np.ravel(MX_NORM_PLOT2)):\n",
    "    ### I added a cubed root on 221128 in order to make the colors skew more 'in-plane'\n",
    "    THETA = (((((np.arccos(np.ravel(np.copy(MZ_NORM_PLOT2))[i]) - (np.pi / 2)) /\n",
    "                (np.pi / 2)) ** 3) * (np.pi / 2)) + (np.pi / 2))\n",
    "#     THETA = (np.arccos(np.ravel(np.copy(MZ_NORM_PLOT2))[i]))\n",
    "    \n",
    "    COL_IN_PLANE_TEMP = np.reshape(COL_IN_PLANE,\n",
    "                                   (np.shape(COL_IN_PLANE)[0]*\n",
    "                                    np.shape(COL_IN_PLANE)[1]*\n",
    "                                    np.shape(COL_IN_PLANE)[2],\n",
    "                                    np.shape(COL_IN_PLANE)[3]))[i]\n",
    "\n",
    "    TEMP0 = (np.sin(THETA)*COL_IN_PLANE_TEMP[0]+(np.cos(THETA)+1)/2)\n",
    "    TEMP1 = (np.sin(THETA)*COL_IN_PLANE_TEMP[1]+(np.cos(THETA)+1)/2)\n",
    "    TEMP2 = (np.sin(THETA)*COL_IN_PLANE_TEMP[2]+(np.cos(THETA)+1)/2)\n",
    "    if TEMP0>1 or TEMP1>1 or TEMP2>1:\n",
    "        TEMP0/=np.max([TEMP0,TEMP1,TEMP2])\n",
    "        TEMP1/=np.max([TEMP0,TEMP1,TEMP2])\n",
    "        TEMP2/=np.max([TEMP0,TEMP1,TEMP2])\n",
    "    COLORS[i][0] = 255*TEMP0\n",
    "    COLORS[i][1] = 255*TEMP1\n",
    "    COLORS[i][2] = 255*TEMP2"
   ]
  },
  {
   "cell_type": "code",
   "execution_count": 44,
   "metadata": {},
   "outputs": [],
   "source": [
    "# MX_NORM_PLOT2 = np.copy(MX_NORM_PLOT3)\n",
    "# MY_NORM_PLOT2 = np.copy(MY_NORM_PLOT3)\n",
    "# MZ_NORM_PLOT2 = np.copy(MZ_NORM_PLOT3)"
   ]
  },
  {
   "cell_type": "code",
   "execution_count": 45,
   "metadata": {},
   "outputs": [
    {
     "name": "stdout",
     "output_type": "stream",
     "text": [
      "8 8.0\n"
     ]
    }
   ],
   "source": [
    "print(PIX_LEN,PIX_LEN_T)"
   ]
  },
  {
   "cell_type": "code",
   "execution_count": 46,
   "metadata": {},
   "outputs": [
    {
     "data": {
      "application/vnd.jupyter.widget-view+json": {
       "model_id": "c9474dbab3cb4886beeedae0e1444055",
       "version_major": 2,
       "version_minor": 0
      },
      "text/plain": [
       "Image(value=b'\\x89PNG\\r\\n\\x1a\\n\\x00\\x00\\x00\\rIHDR\\x00\\x00\\x01\\x90\\x00\\x00\\x01^\\x08\\x02\\x00\\x00\\x00$?\\xde_\\x00\\…"
      ]
     },
     "metadata": {},
     "output_type": "display_data"
    }
   ],
   "source": [
    "## Mayavi plots part 3/3\n",
    "THICKNESS_ASKY = 32 # pixels\n",
    "T_CENTER = Z_LEN//2\n",
    "\n",
    "mlab.clf()\n",
    "mlab.figure(bgcolor = (0.2,0.2,0.2))\n",
    "\n",
    "# for i in np.arange(Z_LEN):\n",
    "#     if i<8 or i>50 or np.logical_and(i>7,i<34) or np.logical_and(i>34,i<56):\n",
    "#         print(i)\n",
    "#         MX_NORM_PLOT2[:,:,i] = np.zeros_like(MX_NORM_PLOT2[:,:,i])\n",
    "#         MY_NORM_PLOT2[:,:,i] = np.zeros_like(MY_NORM_PLOT2[:,:,i])\n",
    "#         MZ_NORM_PLOT2[:,:,i] = np.zeros_like(MZ_NORM_PLOT2[:,:,i])\n",
    "\n",
    "x, y, z = np.mgrid[-50 * PIX/PIX_LEN_T:50 * PIX/PIX_LEN_T:30j,\n",
    "                   -50 * PIX/PIX_LEN_T:50 * PIX/PIX_LEN_T:30j,\n",
    "                   -50:50:30j]\n",
    "#     z*=5\n",
    "scalars = np.arange(np.size(MX_NORM_PLOT2))\n",
    "\n",
    "fig = mlab.figure(bgcolor=(1, 1, 1))\n",
    "\n",
    "# obj = mlab.quiver3d(x,y,z,\n",
    "#                     (MX_NORM_PLOT2),\n",
    "#                     (MY_NORM_PLOT2),\n",
    "#                     (MZ_NORM_PLOT2),\n",
    "#                     extent = [np.min(x), np.max(x),\n",
    "#                               np.min(y), np.max(y),\n",
    "#                               np.min(z), np.max(z)],\n",
    "#                     mode='cone',\n",
    "#                     scalars=scalars,\n",
    "#                     scale_mode='vector',\n",
    "#                     scale_factor=5.,\n",
    "# #                         vmax=1,\n",
    "#                     colormap='RdBu')\n",
    "# obj.glyph.color_mode = 'color_by_scalar' # Color by scalar\n",
    "\n",
    "# # Set look-up table and redraw\n",
    "# obj.module_manager.scalar_lut_manager.lut.table = COLORS\n",
    "\n",
    "obj2_plot = np.ones_like(MX_NORM_PLOT3)*((MZ_NORM_PLOT3**2))\n",
    "\n",
    "B_IP = np.sqrt(np.copy(MX_NORM_PLOT3)**2+np.copy(MY_NORM_PLOT3)**2)\n",
    "B_IP = np.copy(B_IP)-np.min(B_IP)\n",
    "B_IP = (np.copy(B_IP)/np.max(B_IP))\n",
    "B_IP[:,:10,:] = 0\n",
    "B_IP[:,-10:,:] = 0\n",
    "B_IP[:10,:,:] = 0\n",
    "B_IP[-10:,:,:] = 0\n",
    "#     B_IP[B_IP<0.3] = 0\n",
    "#     B_IP[B_IP>0.5] = 0\n",
    "PHI2 = (np.angle((MY_NORM_PLOT3)+1.j*(MX_NORM_PLOT3)))\n",
    "#     PHI2[np.abs(np.sin(PHI2))>(0.707+0.1)] = 0\n",
    "#     PHI2[np.abs(np.sin(PHI2))<(0.707-0.1)] = 0\n",
    "PHI3 = np.ones_like(PHI2)\n",
    "PHI3*=np.min(PHI2)\n",
    "#Make slices to plot the bloch points\n",
    "BP1 = slice(19,25),slice(12,18),slice(23,33)\n",
    "BP2 = slice(19,25),slice(45,51),slice(31,41)\n",
    "BP3 = slice(38,44),slice(12,18),slice(30,40)\n",
    "BP4 = slice(37,43),slice(46,52),slice(25,35)\n",
    "\n",
    "#Make slices to plot the bloch lines\n",
    "BL1 = slice(19,25),slice(11,17),slice(Z_LEN//2 - THICKNESS_ASKY//2,\n",
    "                                    Z_LEN//2 + THICKNESS_ASKY//2)\n",
    "BL2 = slice(19,25),slice(46,52),slice(Z_LEN//2 - THICKNESS_ASKY//2,\n",
    "                                     Z_LEN//2 + THICKNESS_ASKY//2)\n",
    "\n",
    "# BL3 = slice(39,45),slice(11,17),slice(Z_LEN//2 - THICKNESS_ASKY//2,\n",
    "#                                      Z_LEN//2 + THICKNESS_ASKY//2)\n",
    "######## For Bloch Point 1\n",
    "BL2 = slice(22,23),slice(44,54),slice(30,45)\n",
    "BL3 = slice(17,27),slice(48,49),slice(30,45)\n",
    "BL4 = slice(17,27),slice(44,54),slice(36,37)\n",
    "########\n",
    "\n",
    "### Bloch line 1 alone\n",
    "# BL3 = slice(22,23),slice(48,49),slice(Z_LEN//2 - THICKNESS_ASKY//2,\n",
    "#                                     Z_LEN//2 + THICKNESS_ASKY//2)\n",
    "# BL4 = slice(39,45),slice(46,52),slice(Z_LEN//2 - THICKNESS_ASKY//2,\n",
    "#                                       Z_LEN//2 + THICKNESS_ASKY//2)\n",
    "PHI3[BL1] = np.copy(PHI2[BL1])\n",
    "PHI3[BL2] = np.copy(PHI2[BL2])\n",
    "PHI3[BL3] = np.copy(PHI2[BL3])\n",
    "PHI3[BL4] = np.copy(PHI2[BL4])\n",
    "PHI4 = np.ones_like(PHI2)\n",
    "PHI4*=np.min(PHI2)-1\n",
    "MX_NORM_PLOT4 = np.zeros_like(MX_NORM_PLOT3)\n",
    "MY_NORM_PLOT4 = np.zeros_like(MY_NORM_PLOT3)\n",
    "MZ_NORM_PLOT4 = np.zeros_like(MZ_NORM_PLOT3)\n",
    "W1 = slice(20,21),slice(12,51),slice(Z_LEN//2 - THICKNESS_ASKY//2,\n",
    "                                     Z_LEN//2 + THICKNESS_ASKY//2)\n",
    "W2 = slice(42,43),slice(12,51),slice(Z_LEN//2 - THICKNESS_ASKY//2,\n",
    "                                     Z_LEN//2 + THICKNESS_ASKY//2)\n",
    "W3 = slice(20,43),slice(50,51),slice(Z_LEN//2 - THICKNESS_ASKY//2,\n",
    "                                     Z_LEN//2 + THICKNESS_ASKY//2)\n",
    "W4 = slice(20,43),slice(12,13),slice(Z_LEN//2 - THICKNESS_ASKY//2,\n",
    "                                     Z_LEN//2 + THICKNESS_ASKY//2)\n",
    "# MX_NORM_PLOT4[W1] = MX_NORM_PLOT3[W1]\n",
    "# MY_NORM_PLOT4[W1] = MY_NORM_PLOT3[W1]\n",
    "# MZ_NORM_PLOT4[W1] = MZ_NORM_PLOT3[W1]\n",
    "# MX_NORM_PLOT4[W2] = MX_NORM_PLOT3[W2]\n",
    "# MY_NORM_PLOT4[W2] = MY_NORM_PLOT3[W2]\n",
    "# MZ_NORM_PLOT4[W2] = MZ_NORM_PLOT3[W2]\n",
    "# MX_NORM_PLOT4[W3] = MX_NORM_PLOT3[W3]\n",
    "# MY_NORM_PLOT4[W3] = MY_NORM_PLOT3[W3]\n",
    "# MZ_NORM_PLOT4[W3] = MZ_NORM_PLOT3[W3]\n",
    "# MX_NORM_PLOT4[W4] = MX_NORM_PLOT3[W4]\n",
    "# MY_NORM_PLOT4[W4] = MY_NORM_PLOT3[W4]\n",
    "# MZ_NORM_PLOT4[W4] = MZ_NORM_PLOT3[W4]\n",
    "# MX_NORM_PLOT4[BP1] = MX_NORM_PLOT3[BP1]\n",
    "# MY_NORM_PLOT4[BP1] = MY_NORM_PLOT3[BP1]\n",
    "# MZ_NORM_PLOT4[BP1] = MZ_NORM_PLOT3[BP1]\n",
    "# MX_NORM_PLOT4[BL2] = MX_NORM_PLOT3[BL2]\n",
    "# MY_NORM_PLOT4[BL2] = MY_NORM_PLOT3[BL2]\n",
    "# MZ_NORM_PLOT4[BL2] = MZ_NORM_PLOT3[BL2]\n",
    "# MX_NORM_PLOT4[BL3] = MX_NORM_PLOT3[BL3]\n",
    "# MY_NORM_PLOT4[BL3] = MY_NORM_PLOT3[BL3]\n",
    "# MZ_NORM_PLOT4[BL3] = MZ_NORM_PLOT3[BL3]\n",
    "# MX_NORM_PLOT4[BL4] = MX_NORM_PLOT3[BL4]\n",
    "# MY_NORM_PLOT4[BL4] = MY_NORM_PLOT3[BL4]\n",
    "# MZ_NORM_PLOT4[BL4] = MZ_NORM_PLOT3[BL4]\n",
    "\n",
    "# Extract the values along the line\n",
    "# MX_NORM_PLOT4[x2_ind.astype(np.int32),y2_ind.astype(np.int32),\n",
    "#               Z_LEN//2 - THICKNESS_ASKY//2:Z_LEN//2 + THICKNESS_ASKY//2] = MX_NORM_PLOT3[x2_ind.astype(np.int32),y2_ind.astype(np.int32),\n",
    "#               Z_LEN//2 - THICKNESS_ASKY//2:Z_LEN//2 + THICKNESS_ASKY//2]\n",
    "# MY_NORM_PLOT4[x2_ind.astype(np.int32),y2_ind.astype(np.int32),\n",
    "#               Z_LEN//2 - THICKNESS_ASKY//2:Z_LEN//2 + THICKNESS_ASKY//2] = MY_NORM_PLOT3[x2_ind.astype(np.int32),y2_ind.astype(np.int32),\n",
    "#               Z_LEN//2 - THICKNESS_ASKY//2:Z_LEN//2 + THICKNESS_ASKY//2]\n",
    "# MZ_NORM_PLOT4[x2_ind.astype(np.int32),y2_ind.astype(np.int32),\n",
    "#               Z_LEN//2 - THICKNESS_ASKY//2:Z_LEN//2 + THICKNESS_ASKY//2] = MZ_NORM_PLOT3[x2_ind.astype(np.int32),y2_ind.astype(np.int32),\n",
    "#               Z_LEN//2 - THICKNESS_ASKY//2:Z_LEN//2 + THICKNESS_ASKY//2]\n",
    "# MX_NORM_PLOT4[x_ind.astype(np.int32),y_ind.astype(np.int32),\n",
    "#               Z_LEN//2 - THICKNESS_ASKY//2:Z_LEN//2 + THICKNESS_ASKY//2] = MX_NORM_PLOT3[x_ind.astype(np.int32),y_ind.astype(np.int32),\n",
    "#               Z_LEN//2 - THICKNESS_ASKY//2:Z_LEN//2 + THICKNESS_ASKY//2]\n",
    "# MY_NORM_PLOT4[x_ind.astype(np.int32),y_ind.astype(np.int32),\n",
    "#               Z_LEN//2 - THICKNESS_ASKY//2:Z_LEN//2 + THICKNESS_ASKY//2] = MY_NORM_PLOT3[x_ind.astype(np.int32),y_ind.astype(np.int32),\n",
    "#               Z_LEN//2 - THICKNESS_ASKY//2:Z_LEN//2 + THICKNESS_ASKY//2]\n",
    "# MZ_NORM_PLOT4[x_ind.astype(np.int32),y_ind.astype(np.int32),\n",
    "#               Z_LEN//2 - THICKNESS_ASKY//2:Z_LEN//2 + THICKNESS_ASKY//2] = MZ_NORM_PLOT3[x_ind.astype(np.int32),y_ind.astype(np.int32),\n",
    "#               Z_LEN//2 - THICKNESS_ASKY//2:Z_LEN//2 + THICKNESS_ASKY//2]\n",
    "\n",
    "\n",
    "MX_NORM_PLOT5 = np.zeros_like(MX_NORM_PLOT3)\n",
    "MY_NORM_PLOT5 = np.zeros_like(MY_NORM_PLOT3)\n",
    "MZ_NORM_PLOT5 = np.zeros_like(MZ_NORM_PLOT3)\n",
    "\n",
    "MX_NORM_PLOT5 = np.zeros_like(MX_NORM_PLOT3)\n",
    "MY_NORM_PLOT5 = np.zeros_like(MY_NORM_PLOT3)\n",
    "MZ_NORM_PLOT5 = np.zeros_like(MZ_NORM_PLOT3)\n",
    "\n",
    "THICKNESS_PIX = THICKNESS_ASKY\n",
    "X_CROP = 0\n",
    "Y_CROP = 0\n",
    "# MX_NORM_PLOT5[X_LEN//2:X_LEN-X_CROP,Y_CROP:Y_LEN-Y_CROP,\n",
    "#               T_CENTER-THICKNESS_PIX//2:T_CENTER] = MX_NORM_PLOT3[X_LEN//2:X_LEN-X_CROP,Y_CROP:Y_LEN-Y_CROP,\n",
    "#                                                     T_CENTER-THICKNESS_PIX//2:T_CENTER]\n",
    "# MY_NORM_PLOT5[X_LEN//2:X_LEN-X_CROP,Y_CROP:Y_LEN-Y_CROP,\n",
    "#               T_CENTER-THICKNESS_PIX//2:T_CENTER] = MY_NORM_PLOT3[X_LEN//2:X_LEN-X_CROP,Y_CROP:Y_LEN-Y_CROP,\n",
    "#                                                     T_CENTER-THICKNESS_PIX//2:T_CENTER]\n",
    "# MZ_NORM_PLOT5[X_LEN//2:X_LEN-X_CROP,Y_CROP:Y_LEN-Y_CROP,\n",
    "#               T_CENTER-THICKNESS_PIX//2:T_CENTER] = MZ_NORM_PLOT3[X_LEN//2:X_LEN-X_CROP,Y_CROP:Y_LEN-Y_CROP,\n",
    "#                                                     T_CENTER-THICKNESS_PIX//2:T_CENTER]\n",
    "# MX_NORM_PLOT5[X_CROP:X_LEN-X_CROP,Y_LEN//2:Y_LEN-Y_CROP,\n",
    "#               T_CENTER-THICKNESS_PIX//2:T_CENTER+THICKNESS_PIX//2] = MX_NORM_PLOT3[X_CROP:X_LEN-X_CROP,Y_LEN//2:Y_LEN-Y_CROP,\n",
    "#                                                        T_CENTER-THICKNESS_PIX//2:T_CENTER+THICKNESS_PIX//2]\n",
    "# MY_NORM_PLOT5[X_CROP:X_LEN-X_CROP,Y_LEN//2:Y_LEN-Y_CROP,\n",
    "#               T_CENTER-THICKNESS_PIX//2:T_CENTER+THICKNESS_PIX//2] = MY_NORM_PLOT3[X_CROP:X_LEN-X_CROP,Y_LEN//2:Y_LEN-Y_CROP,\n",
    "#                                                        T_CENTER-THICKNESS_PIX//2:T_CENTER+THICKNESS_PIX//2]\n",
    "# MZ_NORM_PLOT5[X_CROP:X_LEN-X_CROP,Y_LEN//2:Y_LEN-Y_CROP,\n",
    "#               T_CENTER-THICKNESS_PIX//2:T_CENTER+THICKNESS_PIX//2] = MZ_NORM_PLOT3[X_CROP:X_LEN-X_CROP,Y_LEN//2:Y_LEN-Y_CROP,\n",
    "#                                                        T_CENTER-THICKNESS_PIX//2:T_CENTER+THICKNESS_PIX//2]\n",
    "MX_NORM_PLOT5[:,:,T_CENTER] = MX_NORM_PLOT3[:,:,T_CENTER]\n",
    "MY_NORM_PLOT5[:,:,T_CENTER] = MY_NORM_PLOT3[:,:,T_CENTER]\n",
    "MZ_NORM_PLOT5[:,:,T_CENTER] = MZ_NORM_PLOT3[:,:,T_CENTER]\n",
    "\n",
    "W1 = slice(3,6),slice(1,23),slice(2,20)\n",
    "W2 = slice(18,21),slice(1,23),slice(2,20)\n",
    "W3 = slice(3,21),slice(20,23),slice(2,20)\n",
    "W4 = slice(3,21),slice(1,4),slice(2,20)\n",
    "PHI4[W1] = np.copy(PHI2[W1])\n",
    "PHI4[W2] = np.copy(PHI2[W2])\n",
    "PHI4[W3] = np.copy(PHI2[W3])\n",
    "PHI4[W4] = np.copy(PHI2[W4])\n",
    "\n",
    "THETA2 = np.arccos(np.copy(MZ_NORM_PLOT3))\n",
    "\n",
    "THETA3 = np.ones_like(THETA2)\n",
    "THETA3*=np.min(THETA2)\n",
    "THETA3[BL1] = np.copy(THETA2[BL1])\n",
    "THETA3[BL2] = np.copy(THETA2[BL2])\n",
    "THETA3[BL3] = np.copy(THETA2[BL3])\n",
    "THETA3[BL4] = np.copy(THETA2[BL4])\n",
    "\n",
    "B_PHI_GRADZ = np.abs(np.diff(PHI3,axis=2,append=0))\n",
    "B_PHI_GRADZ[:,:,21:] = 0\n",
    "B_THETA_GRADZ = np.abs(np.diff(THETA3,axis=2,append=0))\n",
    "B_THETA_GRADZ[:,:,21:] = 0\n",
    "B_IP_GRADZ = -(np.gradient(B_IP,axis=2))\n",
    "#     B_IP_GRADZ[np.logical_or(B_IP_GRADZ>(B_IP_GRADZ.max()-\n",
    "#                                             0.4*B_IP_GRADZ.ptp()),\n",
    "#                                B_IP_GRADZ<(B_IP_GRADZ.min()+\n",
    "#                                             0.4*B_IP_GRADZ.ptp()))] = (np.min(B_IP_GRADZ))\n",
    "B_AMP = np.sqrt(np.copy(MX_NORM_PLOT3)**2+np.copy(MY_NORM_PLOT3)**2+\n",
    "                np.copy(MZ_NORM_PLOT3)**2)\n",
    "B_AMP = np.copy(B_AMP)-np.min(B_AMP)\n",
    "B_AMP = (np.copy(B_AMP)/np.max(B_AMP))\n",
    "B_AMP_GRADZ = -(np.gradient(B_AMP,axis=2))\n",
    "#     B_AMP_GRADZ = np.copy(B_AMP_GRADZ)-np.min(B_AMP_GRADZ)\n",
    "#     B_AMP_GRADZ = (np.copy(B_AMP_GRADZ)/np.max(B_AMP_GRADZ))\n",
    "B_AMP_GRADZ[np.logical_and(B_AMP_GRADZ<(B_AMP_GRADZ.max()-\n",
    "                                        0.4*B_AMP_GRADZ.ptp()),\n",
    "                           B_AMP_GRADZ>(B_AMP_GRADZ.min()+\n",
    "                                        0.4*B_AMP_GRADZ.ptp()))] = (np.min(B_AMP_GRADZ))\n",
    "B_OP = np.copy(MZ_NORM_PLOT3)\n",
    "B_OP = np.copy(B_OP)-np.min(B_OP)\n",
    "B_OP = np.copy(B_OP)/np.max(B_OP) * 2\n",
    "B_OP -= 1\n",
    "B_OP[:,:15,:] = 0\n",
    "B_OP[:,-15:,:] = 0\n",
    "B_OP[:15,:,:] = 0\n",
    "B_OP[-15:,:,:] = 0\n",
    "\n",
    "# Plot just the antiskyrmion core\n",
    "ASKY_CORE = np.copy(B_OP)\n",
    "ASKY_CORE[np.where(THETA2 <= np.pi/2)] = 0\n",
    "ASKY_CORE[np.where(B_OP >= -0.2)] = 0\n",
    "# ASKY_CORE = np.sqrt(np.copy(ASKY_CORE))\n",
    "ASKY_CORE_X = np.copy(MX_NORM_PLOT3)\n",
    "ASKY_CORE_Y = np.copy(MY_NORM_PLOT3)\n",
    "ASKY_CORE_Z = np.copy(MZ_NORM_PLOT3)\n",
    "ASKY_CORE_X[np.where(THETA2 <= np.pi/2)] = 0\n",
    "ASKY_CORE_X[np.where(B_OP >= -0.2)] = 0\n",
    "ASKY_CORE_Y[np.where(THETA2 <= np.pi/2)] = 0\n",
    "ASKY_CORE_Y[np.where(B_OP >= -0.2)] = 0\n",
    "ASKY_CORE_Z[np.where(THETA2 <= np.pi/2)] = 0\n",
    "ASKY_CORE_Z[np.where(B_OP >= -0.2)] = 0\n",
    "\n",
    "ASKY_CORE_X[:,:15,:] = 0\n",
    "ASKY_CORE_X[:,-15:,:] = 0\n",
    "ASKY_CORE_X[:15,:,:] = 0\n",
    "ASKY_CORE_X[-15:,:,:] = 0\n",
    "ASKY_CORE_Y[:,:15,:] = 0\n",
    "ASKY_CORE_Y[:,-15:,:] = 0\n",
    "ASKY_CORE_Y[:15,:,:] = 0\n",
    "ASKY_CORE_Y[-15:,:,:] = 0\n",
    "ASKY_CORE_Z[:,:15,:] = 0\n",
    "ASKY_CORE_Z[:,-15:,:] = 0\n",
    "ASKY_CORE_Z[:15,:,:] = 0\n",
    "ASKY_CORE_Z[-15:,:,:] = 0\n",
    "\n",
    "# Plot just the antiskyrmion core\n",
    "ASKY_DW = np.copy(B_IP)\n",
    "ASKY_DW[np.where(np.abs(THETA2-np.pi/2) >= np.pi/4)] = 0\n",
    "ASKY_DW[np.where(np.abs(B_OP) >= 0.45)] = 0\n",
    "ASKY_DW[np.where(np.abs(ASKY_CORE) >= 0)] = 0\n",
    "# ASKY_CORE = np.sqrt(np.copy(ASKY_CORE))\n",
    "ASKY_DW_X = np.copy(MX_NORM_PLOT3)\n",
    "ASKY_DW_Y = np.copy(MY_NORM_PLOT3)\n",
    "ASKY_DW_Z = np.copy(MZ_NORM_PLOT3)/2\n",
    "ASKY_DW_X[np.where(np.abs(THETA2-np.pi/2) >= np.pi/4)] = 0\n",
    "ASKY_DW_X[np.where(np.abs(B_OP) >= 0.4)] = 0\n",
    "ASKY_DW_X[np.where(B_OP <= -0.4)] = 0\n",
    "ASKY_DW_Y[np.where(np.abs(THETA2-np.pi/2) >= np.pi/4)] = 0\n",
    "ASKY_DW_Y[np.where(np.abs(B_OP) >= 0.4)] = 0\n",
    "ASKY_DW_Y[np.where(B_OP <= -0.4)] = 0\n",
    "ASKY_DW_Z[np.where(np.abs(THETA2-np.pi/2) >= np.pi/4)] = 0\n",
    "ASKY_DW_Z[np.where(np.abs(B_OP) >= 0.4)] = 0\n",
    "ASKY_DW_Z[np.where(B_OP <= -0.4)] = 0\n",
    "\n",
    "ASKY_DW_X[:,:10,:] = 0\n",
    "ASKY_DW_X[:,-10:,:] = 0\n",
    "ASKY_DW_X[:15,:,:] = 0\n",
    "ASKY_DW_X[-15:,:,:] = 0\n",
    "# ASKY_DW_X[-33:,:33,:] = 0\n",
    "ASKY_DW_Y[:,:10,:] = 0\n",
    "ASKY_DW_Y[:,-10:,:] = 0\n",
    "ASKY_DW_Y[:15,:,:] = 0\n",
    "ASKY_DW_Y[-15:,:,:] = 0\n",
    "# ASKY_DW_Y[-33:,:33,:] = 0\n",
    "ASKY_DW_Z[:,:10,:] = 0\n",
    "ASKY_DW_Z[:,-10:,:] = 0\n",
    "ASKY_DW_Z[:15,:,:] = 0\n",
    "ASKY_DW_Z[-15:,:,:] = 0\n",
    "# ASKY_DW_Z[-33:,:33,:] = 0\n",
    "ASKY_DW_X[:,:,55:] = 0\n",
    "ASKY_DW_Y[:,:,55:] = 0\n",
    "ASKY_DW_Z[:,:,55:] = 0\n",
    "ASKY_DW_X[:,:,:15] = 0\n",
    "ASKY_DW_Y[:,:,:15] = 0\n",
    "ASKY_DW_Z[:,:,:15] = 0\n",
    "src = mlab.pipeline.scalar_field(x,y,z,B_IP)\n",
    "src2 = mlab.pipeline.scalar_field(x,y,z,B_OP)\n",
    "src_CORE = mlab.pipeline.scalar_field(x,y,z, ASKY_CORE)\n",
    "src_CORE2 = mlab.pipeline.vector_scatter(x,y,z,\n",
    "                                         (ASKY_CORE_X),\n",
    "                                         (ASKY_CORE_Y),\n",
    "                                         (ASKY_CORE_Z),scalars=scalars)\n",
    "src_DW = mlab.pipeline.scalar_field(x,y,z, ASKY_DW)\n",
    "src_DW2 = mlab.pipeline.vector_scatter(x,y,z,\n",
    "                                         (ASKY_DW_X),\n",
    "                                         (ASKY_DW_Y),\n",
    "                                         (ASKY_DW_Z),scalars=scalars)\n",
    "src_BP = mlab.pipeline.scalar_field(x,y,z,((MX_NORM_PLOT4 - MY_NORM_PLOT4) / 2) **2)\n",
    "src3 = mlab.pipeline.scalar_field(x,y,z,B_AMP)\n",
    "src4 = mlab.pipeline.scalar_field(x,y,z,B_PHI_GRADZ,colormap='hsv')\n",
    "src5 = mlab.pipeline.scalar_field(x,y,z,B_THETA_GRADZ,colormap='hsv')\n",
    "PHI5 = -np.copy(PHI2)-0.5*np.pi\n",
    "PHI5[PHI5<-(np.pi)]+=2*np.pi\n",
    "#     PHI5[PHI5>np.pi]-=2*np.pi\n",
    "# src6 = mlab.pipeline.scalar_field(x[8:60,20:44,20:44],y[8:60,20:44,20:44],z[8:60,20:44,20:44],\n",
    "#                                   PHI5[8:60,20:44,20:44])\n",
    "src7 = mlab.pipeline.vector_scatter(x,y,z,\n",
    "                                   (MX_NORM_PLOT5),\n",
    "                                   (MY_NORM_PLOT5),\n",
    "                                   (MZ_NORM_PLOT5),scalars=scalars, colormap='ylgnbu')\n",
    "#     slice1 = mlab.volume_slice(x,y,z,PHI5, plane_orientation='x_axes',\n",
    "#                              slice_index=3,colormap='hsv')\n",
    "#     slice2 = mlab.volume_slice(x,y,z,PHI5, plane_orientation='x_axes',\n",
    "#                              slice_index=19,colormap='hsv')\n",
    "#     slice3 = mlab.volume_slice(x,y,z,PHI5, plane_orientation='y_axes',\n",
    "#                              slice_index=3,colormap='hsv')\n",
    "#     slice4 = mlab.volume_slice(x,y,z,PHI5, plane_orientation='y_axes',\n",
    "#                              slice_index=19,colormap='hsv')\n",
    "# slice1 = mlab.pipeline.image_plane_widget(src6,colormap='hsv',plane_orientation='x_axes',\n",
    "#                                           slice_index=0)\n",
    "# slice2 = mlab.pipeline.image_plane_widget(src6,colormap='hsv',plane_orientation='x_axes',\n",
    "#                                           slice_index=44)\n",
    "# slice3 = mlab.pipeline.image_plane_widget(src6,colormap='hsv',plane_orientation='y_axes',\n",
    "#                                           slice_index=0)\n",
    "# slice4 = mlab.pipeline.image_plane_widget(src6,colormap='hsv',plane_orientation='y_axes',\n",
    "#                                           slice_index=44)\n",
    "obj7 = mlab.pipeline.vectors(src7, scale_factor=14,\n",
    "                             mode='cone')#,plane_orientation='z_axes')\n",
    "obj7.glyph.color_mode = 'color_by_scalar' # Color by scalar\n",
    "obj7.module_manager.scalar_lut_manager.lut.table = COLORS\n",
    "\n",
    "# obj1 = mlab.pipeline.volume(src_BP, vmin = 0.)\n",
    "# mlab.pipeline.image_plane_widget(src_BP,\n",
    "#                                  plane_orientation='y_axes',\n",
    "#                                  slice_index=29, colormap = 'bone'\n",
    "#                                  )\n",
    "# obj_OP = mlab.pipeline.iso_surface(src2, contours=[B_OP.min() + 0.1 * B_OP.ptp(),],\n",
    "#                                    opacity=0.4, color=(0,0,0))\n",
    "\n",
    "###### Plot the antiskyrmion core as a iso_contour\n",
    "# obj_CORE = mlab.pipeline.iso_surface(src_CORE, contours = list(np.linspace(ASKY_CORE.min(),\n",
    "#                                                                            ASKY_CORE.max(),\n",
    "#                                                                            2)),\n",
    "#                                      opacity=0.2, colormap = 'gist_gray')#, color=(0,0,0))\n",
    "\n",
    "##### Plot the antiskyrmion core as glyphs\n",
    "# obj7 = mlab.pipeline.vectors(src_CORE2, scale_factor=3,\n",
    "#                              mode='cone')#,plane_orientation='z_axes')\n",
    "# obj7.glyph.color_mode = 'color_by_scalar' # Color by scalar\n",
    "# obj7.module_manager.scalar_lut_manager.lut.table = COLORS\n",
    "\n",
    "###### Plot the antiskyrmion domain walls as a iso_contour\n",
    "# obj_DW = mlab.pipeline.iso_surface(src_DW, contours = list(np.linspace(ASKY_DW.min(),\n",
    "#                                                                            ASKY_DW.max(),\n",
    "#                                                                            4)),\n",
    "#                                      opacity=0.1, colormap = 'gist_gray')#, color=(0,0,0))\n",
    "\n",
    "#### Plot the antiskyrmion domain walls as glyphs\n",
    "# obj_DW2 = mlab.pipeline.vectors(src_DW2, scale_factor=3,\n",
    "#                              mode='cone')#,plane_orientation='z_axes')\n",
    "# obj_DW2.glyph.color_mode = 'color_by_scalar' # Color by scalar\n",
    "# obj_DW2.module_manager.scalar_lut_manager.lut.table = COLORS\n",
    "\n",
    "# # ###### Plot cross-sectional slices\n",
    "# mlab.volume_slice(x,y,z,ASKY_CORE, plane_orientation='x_axes', slice_index=30,\n",
    "#                   colormap = 'gist_gray', opacity = 0.1)\n",
    "# mlab.volume_slice(x,y,z,np.sqrt(MX_NORM_PLOT4 ** 2 +\n",
    "#                                 MY_NORM_PLOT4 **2 + \n",
    "#                                 MZ_NORM_PLOT4 **2),\n",
    "#                   plane_orientation='z_axes', slice_index=34,\n",
    "#                   colormap = 'gist_gray', opacity = 0.4)\n",
    "\n",
    "###### Set the rotation, height, pitch and zoom of the figure for plotting\n",
    "ROT_ANG0 = 90#-(180-28)\n",
    "mlab.view(ROT_ANG0,-40)\n",
    "f = mlab.gcf()\n",
    "camera = f.scene.camera\n",
    "# camera.pitch(0.5)\n",
    "camera.zoom(0.8)\n",
    "# mlab.move(forward=0, up=-10, right=15)\n",
    "\n",
    "#     camera.elevation(-10)\n",
    "###### Save the figure\n",
    "mlab.savefig(SAVE_FN + '.tiff', size=(4 * 1024,4. * 1024))\n",
    "# mlab.show()\n",
    "mlab.gcf()\n",
    "\n",
    "# ####### For a video slicing the spin texture by thickness and saving each slice as an image\n",
    "# BASE_VID = str(SV_DIR + 'vid_slices_XZ/')\n",
    "# if not os.path.exists(str(BASE_VID)):\n",
    "#     os.makedirs(str(BASE_VID))\n",
    "# x_counter = 0\n",
    "# t_counter = 0\n",
    "# z_counter1 = -9\n",
    "# z_counter2 = 0\n",
    "# im_counter = 0\n",
    "# for i,_ in enumerate(MX_NORM_PLOT4):\n",
    "#     mlab.clf()\n",
    "#     MX_NORM_PLOT4 = np.zeros_like(MX_NORM_PLOT3)\n",
    "#     MY_NORM_PLOT4 = np.zeros_like(MY_NORM_PLOT3)\n",
    "#     MZ_NORM_PLOT4 = np.zeros_like(MZ_NORM_PLOT3)\n",
    "# #     if i<9:\n",
    "# #         TXT_LABEL = str('z = '+str(round(z_counter1*PIX_LEN_T,1))+' nm')\n",
    "# #         z_counter1+=1\n",
    "# #     elif i>58:\n",
    "# #         TXT_LABEL = str('z = '+str(round(z_counter2*PIX_LEN_T,1))+' nm')\n",
    "# #         z_counter2+=1\n",
    "# #     else:\n",
    "# #         TXT_LABEL = str('t = '+str(round(t_counter*PIX_LEN_T,1))+' nm')\n",
    "# #         t_counter+=1\n",
    "#     TXT_LABEL = str('x = '+str(round(x_counter*PIX_LEN_T,1))+' nm')\n",
    "#     x_counter+=1\n",
    "# #     MX_NORM_PLOT4[:,:,i] = (np.copy(MX_NORM_PLOT3)[:,:,i]) / np.max((np.abs([MX_NORM_PLOT3,\n",
    "# #                                                                              MY_NORM_PLOT3,\n",
    "# #                                                                              MZ_NORM_PLOT3])))\n",
    "# #     MY_NORM_PLOT4[:,:,i] = (np.copy(MY_NORM_PLOT3)[:,:,i]) / np.max((np.abs([MX_NORM_PLOT3,\n",
    "# #                                                                              MY_NORM_PLOT3,\n",
    "# #                                                                              MZ_NORM_PLOT3])))\n",
    "# #     MZ_NORM_PLOT4[:,:,i] = (np.copy(MZ_NORM_PLOT3)[:,:,i]) / np.max((np.abs([MX_NORM_PLOT3,\n",
    "# #                                                                              MY_NORM_PLOT3,\n",
    "# #                                                                              MZ_NORM_PLOT3])))\n",
    "#     MX_NORM_PLOT4[:,:,i] = ((np.abs(np.copy(MX_NORM_PLOT3))[:,:,i]) ** (1./2)) * np.sign(np.copy(MX_NORM_PLOT3)[:,:,i])/ np.max((np.abs([MX_NORM_PLOT3,\n",
    "#                                                                             MY_NORM_PLOT3,\n",
    "#                                                                             MZ_NORM_PLOT3]) ** (1./2)))\n",
    "#     MY_NORM_PLOT4[:,:,i] = (np.abs(np.copy(MY_NORM_PLOT3)[:,:,i]) ** (1./2)) * np.sign(np.copy(MY_NORM_PLOT3)[:,:,i])/ np.max((np.abs([MX_NORM_PLOT3,\n",
    "#                                                                             MY_NORM_PLOT3,\n",
    "#                                                                             MZ_NORM_PLOT3]) ** (1./2)))\n",
    "#     MZ_NORM_PLOT4[:,:,i] = (np.abs(np.copy(MZ_NORM_PLOT3)[:,:,i]) ** (1./2)) * np.sign(np.copy(MZ_NORM_PLOT3)[:,:,i]) / np.max((np.abs([MX_NORM_PLOT3,\n",
    "#                                                                             MY_NORM_PLOT3,\n",
    "#                                                                             MZ_NORM_PLOT3]) ** (1./2)))\n",
    "# #     if np.logical_and(i>7, i<64):\n",
    "#     ROLL_LEN = np.size(MX_NORM_PLOT4[0])\n",
    "\n",
    "#     src7 = mlab.pipeline.vector_scatter(x,y,z,\n",
    "#                                         (MX_NORM_PLOT4),\n",
    "#                                         (MY_NORM_PLOT4),\n",
    "#                                         (MZ_NORM_PLOT4),\n",
    "#                                         scalars=scalars)\n",
    "#     obj7 = mlab.pipeline.vectors(src7, scale_factor=5,\n",
    "#                              mode='cone')#,plane_orientation='z_axes')\n",
    "#     obj7.glyph.color_mode = 'color_by_scalar' # Color by scalar\n",
    "\n",
    "#     obj7.module_manager.scalar_lut_manager.lut.table = COLORS\n",
    "#     mlab.text(0.875, 0.98, str(TXT_LABEL), color = (0,0,0),\n",
    "#               width = 1, opacity = 1, line_width = 25)\n",
    "#     mlab.view(0,0)\n",
    "#     f = mlab.gcf()\n",
    "#     camera = f.scene.camera\n",
    "#     camera.pitch(0.5)\n",
    "#     camera.zoom(1.1 - (0.0025 * i))\n",
    "#     #     camera.elevation(-10)\n",
    "#     ###### Save the figure\n",
    "#     mlab.savefig(str(BASE_VID + str(im_counter).zfill(4) + '.tiff'), size=(4096,4096))\n",
    "#     mlab.show()\n",
    "#     im_counter+=1\n",
    "# ###### For a video with a rotating spin texture:\n",
    "# BASE_VID = str(SV_DIR + 'vid_slices/')\n",
    "# if not os.path.exists(str(BASE_VID)):\n",
    "#     os.makedirs(str(BASE_VID))\n",
    "# ROT_ANGS = np.linspace(ROT_ANG0, ROT_ANG0 + 360, 180)\n",
    "# Z_SLICES = np.arange(40)[::-1]\n",
    "# # for i,ang in enumerate(ROT_ANGS):\n",
    "# for i,z_slice in enumerate(Z_SLICES):\n",
    "#     print('z_slice = ' + str(z_slice))\n",
    "#     mlab.clf()\n",
    "# #     obj_CORE = mlab.pipeline.iso_surface(src_CORE, contours = list(np.linspace(ASKY_CORE.min(),\n",
    "# #                                                                            ASKY_CORE.max(),\n",
    "# #                                                                            4)),\n",
    "# #                                          opacity=0.1, colormap = 'gist_gray')\n",
    "#     ###### Plot the antiskyrmion core as glyphs\n",
    "#     ASKY_DW_X[:,:,z_slice + 15:] = 0\n",
    "#     ASKY_DW_Y[:,:,z_slice + 15:] = 0\n",
    "#     ASKY_DW_Z[:,:,z_slice + 15:] = 0\n",
    "#     src_DW2 = mlab.pipeline.vector_scatter(x,y,z,\n",
    "#                                          (ASKY_DW_X),\n",
    "#                                          (ASKY_DW_Y),\n",
    "#                                          (ASKY_DW_Z),scalars=scalars)\n",
    "#     obj7 = mlab.pipeline.vectors(src_DW2, scale_factor=3,\n",
    "#                              mode='cone')#,plane_orientation='z_axes')\n",
    "#     obj7.glyph.color_mode = 'color_by_scalar' # Color by scalar\n",
    "#     obj7.module_manager.scalar_lut_manager.lut.table = COLORS\n",
    "#     ##### Plot the top, middle, and bottom slices of the antiskyrmion\n",
    "# #         obj = mlab.quiver3d(x,y,z,\n",
    "# #                             (MX_NORM_PLOT2),\n",
    "# #                             (MY_NORM_PLOT2),\n",
    "# #                             (MZ_NORM_PLOT2),\n",
    "# #                             extent = [np.min(x), np.max(x),\n",
    "# #                                       np.min(y), np.max(y),\n",
    "# #                                       np.min(z), np.max(z)],\n",
    "# #                             mode='cone',\n",
    "# #                             scalars=scalars,\n",
    "# #                             scale_mode='vector',\n",
    "# #                             scale_factor=3.,\n",
    "# #         #                         vmax=1,\n",
    "# #                             colormap='RdBu')\n",
    "# #         obj.glyph.color_mode = 'color_by_scalar' # Color by scalar\n",
    "\n",
    "# #         # Set look-up table and redraw\n",
    "# #         obj.module_manager.scalar_lut_manager.lut.table = COLORS\n",
    "\n",
    "#     ###### Set the figure view\n",
    "# #     mlab.view(ang,35)\n",
    "#     mlab.view(ROT_ANG0,35)\n",
    "#     f = mlab.gcf()\n",
    "#     camera = f.scene.camera\n",
    "#     camera.pitch(0.5)\n",
    "#     camera.zoom(0.7)\n",
    "#     mlab.savefig(str(BASE_VID + str(i).zfill(4) + '.tiff'), size=(2047,2799))\n",
    "#     mlab.show()"
   ]
  },
  {
   "cell_type": "code",
   "execution_count": null,
   "metadata": {},
   "outputs": [],
   "source": []
  }
 ],
 "metadata": {
  "anaconda-cloud": {},
  "kernelspec": {
   "display_name": "Python 3 (ipykernel)",
   "language": "python",
   "name": "python3"
  },
  "language_info": {
   "codemirror_mode": {
    "name": "ipython",
    "version": 3
   },
   "file_extension": ".py",
   "mimetype": "text/x-python",
   "name": "python",
   "nbconvert_exporter": "python",
   "pygments_lexer": "ipython3",
   "version": "3.9.7"
  }
 },
 "nbformat": 4,
 "nbformat_minor": 4
}
